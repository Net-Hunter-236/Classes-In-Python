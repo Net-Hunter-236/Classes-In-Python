{
 "cells": [
  {
   "cell_type": "markdown",
   "id": "81a365e3",
   "metadata": {},
   "source": [
    "# Classes in Python: A Comprehensive Guide\n",
    "\n",
    "## Introduction\n",
    "### In Python, classes are a fundamental building block for object-oriented programming (OOP). OOP is a programming paradigm that uses objects and classes to model real-world scenarios. They allow you to create user-defined data structures that encapsulate both data (attributes) and behavior (methods). This encapsulation promotes code reusability, modularity, and maintainability."
   ]
  },
  {
   "cell_type": "markdown",
   "id": "0a0d6649",
   "metadata": {},
   "source": [
    "## Key Concepts\n",
    "### Class: A blueprint for creating objects. It defines the attributes and methods that objects of that class will possess.\n",
    "### Object: An instance of a class. It has its own unique set of attribute values.\n",
    "### Attributes: Variables that store data associated with an object.\n",
    "### Methods: Functions that operate on the object's data.\n",
    "### Constructor: A special method called __init__ that is automatically invoked when an object is created. It initializes the object's attributes.\n",
    "## Creating a Class and Object"
   ]
  },
  {
   "cell_type": "code",
   "execution_count": 1,
   "id": "0239378a",
   "metadata": {},
   "outputs": [
    {
     "name": "stdout",
     "output_type": "stream",
     "text": [
      "Buddy\n",
      "Buddy barks!\n"
     ]
    }
   ],
   "source": [
    "class Dog:\n",
    "    def __init__(self, name, breed):\n",
    "        self.name = name\n",
    "        self.breed = breed\n",
    "\n",
    "    def bark(self):\n",
    "        print(f\"{self.name} barks!\")\n",
    "\n",
    "# Create an object of the Dog class\n",
    "my_dog = Dog(\"Buddy\", \"Golden Retriever\")\n",
    "\n",
    "# Access attributes and call methods\n",
    "print(my_dog.name)  # Output: Buddy\n",
    "my_dog.bark()  # Output: Buddy barks!"
   ]
  },
  {
   "cell_type": "code",
   "execution_count": 2,
   "id": "758b0635-4126-474a-8451-3676a31fedd2",
   "metadata": {},
   "outputs": [
    {
     "name": "stdout",
     "output_type": "stream",
     "text": [
      "Hello, my name is Alice. I am 30 years old and I live in New York.\n"
     ]
    }
   ],
   "source": [
    "class Person:\n",
    "    def __init__(self, name, age, city):\n",
    "        self.name = name\n",
    "        self.age = age\n",
    "        self.city = city\n",
    "\n",
    "    def introduce(self):\n",
    "        print(f\"Hello, my name is {self.name}. I am {self.age} years old and I live in {self.city}.\")\n",
    "\n",
    "# Example usage:\n",
    "person = Person(\"Alice\", 30, \"New York\")\n",
    "person.introduce()\n"
   ]
  },
  {
   "cell_type": "markdown",
   "id": "db04f438",
   "metadata": {},
   "source": [
    "## Inheritance\n",
    "### Inheritance allows you to create new classes (child classes) that inherit attributes and methods from existing classes (parent classes). This promotes code reuse and hierarchical relationships between classes."
   ]
  },
  {
   "cell_type": "code",
   "execution_count": 2,
   "id": "9dcf9e3a",
   "metadata": {},
   "outputs": [
    {
     "name": "stdout",
     "output_type": "stream",
     "text": [
      "Buddy is eating.\n",
      "Buddy barks!\n"
     ]
    }
   ],
   "source": [
    "class Animal:\n",
    "    def __init__(self, name):\n",
    "        self.name = name\n",
    "\n",
    "    def eat(self):\n",
    "        print(f\"{self.name} is eating.\")\n",
    "\n",
    "class Dog(Animal):\n",
    "    def bark(self):\n",
    "        print(f\"{self.name} barks!\")\n",
    "\n",
    "my_dog = Dog(\"Buddy\")\n",
    "my_dog.eat()  # Output: Buddy is eating.\n",
    "my_dog.bark()  # Output: Buddy barks!"
   ]
  },
  {
   "cell_type": "code",
   "execution_count": 33,
   "id": "314c2607-524b-4322-a5b5-1c00c4a381c7",
   "metadata": {},
   "outputs": [
    {
     "name": "stdout",
     "output_type": "stream",
     "text": [
      "Bilal\n",
      "19\n",
      "lahore\n",
      "Bilal's age is 19 from lahore\n"
     ]
    }
   ],
   "source": [
    "#Q-1 Create a class Person with attributes name, age, and city.\n",
    "class person:\n",
    "     def __init__(self,name,age,city):\n",
    "        self.name=name\n",
    "        self.age=age\n",
    "        self.city=city\n",
    "     def live(self):\n",
    "        print(f\"{self.name}'s age is {self.age} from {self.city}\")\n",
    "my_person=person(\"Bilal\",19,\"lahore\")\n",
    "print(my_person.name)\n",
    "print(my_person.age)\n",
    "print(my_person.city)\n",
    "my_person.live()"
   ]
  },
  {
   "cell_type": "code",
   "execution_count": 32,
   "id": "2cfbaf27-89d5-473b-897b-03caec3abf07",
   "metadata": {},
   "outputs": [
    {
     "name": "stdout",
     "output_type": "stream",
     "text": [
      "My car is Supra\n",
      "And the model is 3.0\n",
      "Year is 2022\n"
     ]
    }
   ],
   "source": [
    "#Q2. Create a class Car with attributes make, model, and year.¶\n",
    "class Car:\n",
    "    def __init__(self, make, model, year):\n",
    "        self.make = make\n",
    "        self.model = model\n",
    "        self.year = year\n",
    "    def running(self):\n",
    "        print(f\"My car is {self.make}\")\n",
    "        print(f\"And the model is {self.model}\")\n",
    "        print(f\"Year is {self.year}\")\n",
    "my_car = Car('Supra', 3.0, 2022)\n",
    "my_car.running()"
   ]
  },
  {
   "cell_type": "code",
   "execution_count": 22,
   "id": "a1225fcc-ee04-4328-bb7e-8a4ee1e0c5ac",
   "metadata": {},
   "outputs": [],
   "source": [
    "import math"
   ]
  },
  {
   "cell_type": "code",
   "execution_count": 31,
   "id": "03515b36-baa8-46b5-8548-95848af3b573",
   "metadata": {},
   "outputs": [
    {
     "name": "stdout",
     "output_type": "stream",
     "text": [
      "Area of the circle: 153.94\n",
      "Circumference of the circle: 43.98\n"
     ]
    }
   ],
   "source": [
    "#Q-3 Create a class Circle with attributes radius and methods to calculate area and circumference.\n",
    "import math\n",
    "class Circle:\n",
    "    def __init__(self, radius):\n",
    "        self.radius = radius\n",
    "    def area(self):\n",
    "        return math.pi * (self.radius ** 2)\n",
    "    def circumference(self):\n",
    "        return 2 * math.pi * self.radius\n",
    "my_circle = Circle(7)\n",
    "print(f\"Area of the circle: {my_circle.area():.2f}\")\n",
    "print(f\"Circumference of the circle: {my_circle.circumference():.2f}\")"
   ]
  },
  {
   "cell_type": "code",
   "execution_count": 30,
   "id": "43156905-e5aa-4490-aa8c-f471154b61ee",
   "metadata": {},
   "outputs": [
    {
     "name": "stdout",
     "output_type": "stream",
     "text": [
      "Area of the rectangle: 28\n",
      "Perimeter of the rectangle: 22\n"
     ]
    }
   ],
   "source": [
    "#Q-4. Create a class Rectangle with attributes length and width and methods to calculate area and perimeter.¶\n",
    "class Rectangle:\n",
    "    def __init__(self, length, width):\n",
    "        self.length = length\n",
    "        self.width = width\n",
    "    def area(self):\n",
    "        return self.length * self.width\n",
    "    def perimeter(self):\n",
    "        return 2 * (self.length + self.width)\n",
    "my_rectangle = Rectangle(4, 7)\n",
    "print(f\"Area of the rectangle: {my_rectangle.area()}\")\n",
    "print(f\"Perimeter of the rectangle: {my_rectangle.perimeter()}\")"
   ]
  },
  {
   "cell_type": "code",
   "execution_count": 29,
   "id": "52202384-ee8d-465e-9458-0fe56b90998f",
   "metadata": {},
   "outputs": [
    {
     "name": "stdout",
     "output_type": "stream",
     "text": [
      "Name: Adnan\n",
      "Roll Number: fa24-bbd-098\n",
      "Average Marks: 86.6\n"
     ]
    }
   ],
   "source": [
    "#Q-5. Create a class Student with attributes name, roll_number, and marks. Implement a method to calculate the average marks.\n",
    "class Student:\n",
    "    def __init__(self, name, roll_number, marks):\n",
    "        self.name = name\n",
    "        self.roll_number = roll_number\n",
    "        self.marks = marks\n",
    "    def calculate_average(self):\n",
    "        return sum(self.marks) / len(self.marks) if self.marks else 0\n",
    "student1 = Student(\"Adnan\", \"fa24-bbd-098\", [85, 90, 78, 92, 88])\n",
    "print(\"Name:\", student1.name)\n",
    "print(\"Roll Number:\", student1.roll_number)\n",
    "print(\"Average Marks:\", student1.calculate_average())"
   ]
  },
  {
   "cell_type": "code",
   "execution_count": 27,
   "id": "74cd29f4-865a-4aba-9d38-f7e803e60f44",
   "metadata": {},
   "outputs": [
    {
     "name": "stdout",
     "output_type": "stream",
     "text": [
      "Title: Harry Potter and the Deathly Hallows\n",
      "Author: J.K. Rowling\n",
      "Publication Year: 2007\n"
     ]
    }
   ],
   "source": [
    "#Q-6. Create a class Book with attributes title, author, and publication_year.¶\n",
    "class Book:\n",
    "    def __init__(self, title, author, publication_year):\n",
    "        self.title = title\n",
    "        self.author = author\n",
    "        self.publication_year = publication_year\n",
    "book1 = Book(\"Harry Potter and the Deathly Hallows\", \"J.K. Rowling\", 2007)\n",
    "print(\"Title:\", book1.title)\n",
    "print(\"Author:\", book1.author)\n",
    "print(\"Publication Year:\", book1.publication_year)"
   ]
  },
  {
   "cell_type": "code",
   "execution_count": 28,
   "id": "a44f2a20-6ba1-4b22-b8b2-4d0678bad08a",
   "metadata": {},
   "outputs": [
    {
     "name": "stdout",
     "output_type": "stream",
     "text": [
      "Name: Adnan\n",
      "Salary: 500000\n",
      "Designation: Manager\n"
     ]
    }
   ],
   "source": [
    "#Q-7. Create a class Employee with attributes name, salary, and designation.\n",
    "class Employee:\n",
    "    def __init__(self, name, salary, designation):\n",
    "        self.name = name\n",
    "        self.salary = salary\n",
    "        self.designation = designation\n",
    "employee1 = Employee(\"Adnan\", 500000, \"Manager\")\n",
    "print(\"Name:\", employee1.name)\n",
    "print(\"Salary:\", employee1.salary)\n",
    "print(\"Designation:\", employee1.designation)"
   ]
  },
  {
   "cell_type": "code",
   "execution_count": 36,
   "id": "b6c10cda-b845-4de1-b1d3-eadb2b191365",
   "metadata": {},
   "outputs": [
    {
     "name": "stdout",
     "output_type": "stream",
     "text": [
      "Account Holder: Adnan\n",
      "Account Number: 123456789\n",
      "Balance: 1000\n",
      "Deposited 500. New balance is 1500.\n",
      "Withdrew 300. New balance is 1200.\n"
     ]
    }
   ],
   "source": [
    "#q-8. Create a class Bank with attributes name, account_number, and balance. Implement methods to deposit and withdraw money\n",
    "class Bank:\n",
    "    def __init__(self, name, account_number, balance):\n",
    "        self.name = name\n",
    "        self.account_number = account_number\n",
    "        self.balance = balance\n",
    "    def deposit(self, amount):\n",
    "        if amount > 0:\n",
    "            self.balance += amount\n",
    "            return f\"Deposited {amount}. New balance is {self.balance}.\"\n",
    "        else:\n",
    "            return \"Deposit amount must be positive.\"\n",
    "    def withdraw(self, amount):\n",
    "        if 0 < amount <= self.balance:\n",
    "            self.balance -= amount\n",
    "            return f\"Withdrew {amount}. New balance is {self.balance}.\"\n",
    "        elif amount > self.balance:\n",
    "            return \"Insufficient balance.\"\n",
    "        else:\n",
    "            return \"Withdrawal amount must be positive.\"\n",
    "account1 = Bank(\"Adnan\", \"123456789\", 1000)\n",
    "print(\"Account Holder:\", account1.name)\n",
    "print(\"Account Number:\", account1.account_number)\n",
    "print(\"Balance:\", account1.balance)\n",
    "print(account1.deposit(500))\n",
    "print(account1.withdraw(300))"
   ]
  },
  {
   "cell_type": "markdown",
   "id": "d76e9927",
   "metadata": {},
   "source": [
    "## Encapsulation\n",
    "### Encapsulation is the practice of hiding the internal implementation details of a class from the outside world. This promotes code modularity and prevents unintended modifications."
   ]
  },
  {
   "cell_type": "code",
   "execution_count": 3,
   "id": "788a14d6",
   "metadata": {},
   "outputs": [],
   "source": [
    "class BankAccount:\n",
    "    def __init__(self, balance):\n",
    "        self.__balance = balance  # Private attribute\n",
    "\n",
    "    def deposit(self, amount):\n",
    "        self.__balance += amount\n",
    "\n",
    "    def withdraw(self, amount):\n",
    "        if self.__balance >= amount:\n",
    "            self.__balance -= amount\n",
    "        else:\n",
    "            print(\"Insufficient funds.\")\n",
    "\n",
    "    def get_balance(self):\n",
    "        return self.__balance"
   ]
  },
  {
   "cell_type": "markdown",
   "id": "99ec9b48",
   "metadata": {},
   "source": [
    "## Practice Exercises\n",
    "\n",
    "### 1. Create a class Person with attributes name, age, and city.\n",
    "### 2. Create a class Car with attributes make, model, and year.\n",
    "### 3. Create a class Circle with attributes radius and methods to calculate area and circumference.\n",
    "### 4. Create a class Rectangle with attributes length and width and methods to calculate area and perimeter.\n",
    "### 5. Create a class Student with attributes name, roll_number, and marks. Implement a method to calculate the average marks.\n",
    "### 6. Create a class Book with attributes title, author, and publication_year.\n",
    "### 7. Create a class Employee with attributes name, salary, and designation.\n",
    "### 8. Create a class Bank with attributes name, account_number, and balance. Implement methods to deposit and withdraw money.\n",
    "### 9. Create a class Shape with a method to calculate area. Create subclasses Circle, Rectangle, and Triangle that inherit from Shape and implement their specific area calculations.\n",
    "### 10. Create a class Animal with attributes name and sound. Create subclasses Dog, Cat, and Cow that inherit from Animal and implement their specific sounds.\n",
    "\n",
    "## Additional Tips\n",
    "### Use meaningful names for classes, attributes, and methods.\n",
    "### Write clear and concise code.\n",
    "### Use comments to explain complex logic.\n",
    "### Test your code thoroughly.\n",
    "### Consider using inheritance to avoid code duplication.\n",
    "### Encapsulate data to protect it from accidental modification.\n",
    "### Use polymorphism to create flexible and adaptable code."
   ]
  }
 ],
 "metadata": {
  "kernelspec": {
   "display_name": "Python 3 (ipykernel)",
   "language": "python",
   "name": "python3"
  },
  "language_info": {
   "codemirror_mode": {
    "name": "ipython",
    "version": 3
   },
   "file_extension": ".py",
   "mimetype": "text/x-python",
   "name": "python",
   "nbconvert_exporter": "python",
   "pygments_lexer": "ipython3",
   "version": "3.12.4"
  }
 },
 "nbformat": 4,
 "nbformat_minor": 5
}
