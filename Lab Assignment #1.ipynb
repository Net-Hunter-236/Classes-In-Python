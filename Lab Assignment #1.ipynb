{
 "cells": [
  {
   "cell_type": "code",
   "execution_count": 1,
   "id": "ee0a8621-30e4-4d6c-9ef4-ebc17841adfb",
   "metadata": {},
   "outputs": [
    {
     "name": "stdin",
     "output_type": "stream",
     "text": [
      "Enter marks (1-100):  80\n"
     ]
    },
    {
     "name": "stdout",
     "output_type": "stream",
     "text": [
      "Grade: C\n"
     ]
    }
   ],
   "source": [
    "                                         #M. Adnan\n",
    "#Question 1 Write a Python code to accept marks of a student from 1-100 and display the grade \n",
    "#according to the following formula. \n",
    "#Grade F if marks are less than 50 \n",
    "#Grade E if marks are between 50 to 60 \n",
    "#Grade D if marks are between 61 to 70 \n",
    "#Grade C if marks are between 71 to 80 \n",
    "#Grade B if marks are between 81 to 90 \n",
    "#Grade A if marks are between 91 to 100\n",
    "          #Actual code \n",
    "marks = input(\"Enter marks (1-100): \")\n",
    "if marks.isdigit():\n",
    "    marks = int(marks)\n",
    "    if marks < 50:\n",
    "        print(\"Grade: F\")\n",
    "    elif marks <= 60:\n",
    "        print(\"Grade: E\")\n",
    "    elif marks <= 70:\n",
    "        print(\"Grade: D\")\n",
    "    elif marks <= 80:\n",
    "        print(\"Grade: C\")\n",
    "    elif marks <= 90:\n",
    "        print(\"Grade: B\")\n",
    "    elif marks <= 100:\n",
    "        print(\"Grade: A\")\n",
    "    else:\n",
    "        print(\"Invalid marks. Enter a number between 1 and 100.\")\n",
    "else:\n",
    "    print(\"Invalid input. Enter a number between 1 and 100.\")"
   ]
  },
  {
   "cell_type": "code",
   "execution_count": 9,
   "id": "95e8b353-32f1-421f-b17c-4fdfc88c404f",
   "metadata": {},
   "outputs": [
    {
     "name": "stdin",
     "output_type": "stream",
     "text": [
      "Enter Temperature in Centigrade:  2\n"
     ]
    },
    {
     "name": "stdout",
     "output_type": "stream",
     "text": [
      "COLD\n"
     ]
    }
   ],
   "source": [
    "#Question 2 Write a Python code to accept temperature value from user (in centigrade) and display \n",
    "#an appropriate message as below. \n",
    "#FREEZING if temperature in less than 0 \n",
    "#COLD if temperature is between 0 to 15 \n",
    "#WARM if temperature is between 16 to 30 \n",
    "#HOT if temperature is between 31 to 40 \n",
    "#VERY HOT if temperature is greater than 40\n",
    "          #Actual code\n",
    "user = int(input(\"Enter Temperature in Centigrade: \"))\n",
    "if user < 0:\n",
    "    print(\"FREEZING\")    \n",
    "elif user > 0 and user <= 15:\n",
    "    print(\"COLD\")\n",
    "elif user > 15 and user <= 30: \n",
    "    print(\"WARM\")\n",
    "elif user > 30 and user <= 40:\n",
    "    print(\"HOT\")\n",
    "elif user > 40:\n",
    "    print(\"VERY HOT\") \n",
    "else:\n",
    "    print(\"Enter Valid Temperature!\")"
   ]
  },
  {
   "cell_type": "code",
   "execution_count": null,
   "id": "14f8106f-5be6-46a3-9f2b-6b8c4194a487",
   "metadata": {},
   "outputs": [],
   "source": []
  }
 ],
 "metadata": {
  "kernelspec": {
   "display_name": "Python 3 (ipykernel)",
   "language": "python",
   "name": "python3"
  },
  "language_info": {
   "codemirror_mode": {
    "name": "ipython",
    "version": 3
   },
   "file_extension": ".py",
   "mimetype": "text/x-python",
   "name": "python",
   "nbconvert_exporter": "python",
   "pygments_lexer": "ipython3",
   "version": "3.12.4"
  }
 },
 "nbformat": 4,
 "nbformat_minor": 5
}
